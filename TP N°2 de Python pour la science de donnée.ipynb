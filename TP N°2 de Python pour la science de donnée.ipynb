{
 "cells": [
  {
   "cell_type": "markdown",
   "id": "3ebeb951",
   "metadata": {},
   "source": [
    "<h1 style=\"color: red; text-align: center;\">TP N°02 de Python pour la science de donnée</h1>\n",
    "<h2 style=\"color: blue; text-align: center;\">University of Abdelmalek Essaadi</h2>\n",
    "<h3 style=\"color: green; text-align: center;\">Pr. H. ROUTAIB</h2>\n",
    "<hr></hr>\n",
    "<h3>❖ Author:</h3>\n",
    "<p>TATI Mohammed <span style=\"color: red\"><b>|</b></span> <span style=\"color: green\">05-nov-22</span></p>"
   ]
  },
  {
   "cell_type": "markdown",
   "id": "95ee86cb",
   "metadata": {},
   "source": [
    "<h2 style=\"color: green\">❖ Exercise 01: ”Mailing Address”</h2>\n",
    "<p style=\"color: green\"><i>(Solved in 6 Lines)</p>\n",
    "<p style=\"text-align: justify\">Create a program that displays your name and complete mailing address formatted as you usually see on\n",
    "the outside of an envelope. Your program does not need to read any input from the user."
   ]
  },
  {
   "cell_type": "code",
   "execution_count": 1,
   "id": "b509a42c",
   "metadata": {
    "scrolled": true
   },
   "outputs": [
    {
     "name": "stdout",
     "output_type": "stream",
     "text": [
      "\n",
      "Mohammed TATI\n",
      "N°30 HAY AL WAHDA, BOUARFA\n",
      "61200\n",
      "\n"
     ]
    }
   ],
   "source": [
    "mailing = \"\"\"\n",
    "Mohammed TATI\n",
    "N°30 HAY AL WAHDA, BOUARFA\n",
    "61200\n",
    "\"\"\"\n",
    "print(mailing)"
   ]
  },
  {
   "cell_type": "markdown",
   "id": "1de30857",
   "metadata": {},
   "source": [
    "<h2 style=\"color: green\">❖ Exercise 02: ”Area of a Room”</h2>\n",
    "<p style=\"color: green\"><i>(Solved in 13 Lines)</p>\n",
    "<p style=\"text-align: justify\">Write a program that asks the user to enter the width and length of a room. Once the values have been\n",
    "read, your program should compute and display the area of the room. The length and the width will be\n",
    "entered as floating point numbers. Include units in your prompt and output message; either feet or meters,\n",
    "depending on which unit you are more comfortable working with."
   ]
  },
  {
   "cell_type": "code",
   "execution_count": 2,
   "id": "0c21d11f",
   "metadata": {},
   "outputs": [
    {
     "name": "stdout",
     "output_type": "stream",
     "text": [
      "Enter the length (meter): 12.5\n",
      "Enter the width (meter): 10.4\n",
      "The area of the room is 130.00 m²\n"
     ]
    }
   ],
   "source": [
    "length = float(input(\"Enter the length (meter): \"))\n",
    "width = float(input(\"Enter the width (meter): \"))\n",
    "\n",
    "print(f\"The area of the room is {length * width:.2f} m²\")"
   ]
  },
  {
   "cell_type": "markdown",
   "id": "1f23c17d",
   "metadata": {},
   "source": [
    "<h2 style=\"color: green\">❖ Exercise 03: ”Bottle Deposits”</h2>\n",
    "<p style=\"color: green\"><i>(Solved in 15 Lines)</p>\n",
    "<p style=\"text-align: justify\">In many jurisdictions, a small deposit is added to drink containers to encourage people to recycle them. In one particular jurisdiction, drink containers holding one liter or less have a 0.10 Dollar deposit and drink containers holding more than one liter have a 0.25 dollar deposit. Write a program that reads the number of containers of each size from the user. Your program should continue by computing and displaying the refund that will be received for returning those containers. Format the output so that it includes a dollar sign and always displays exactly two decimal places.</p>"
   ]
  },
  {
   "cell_type": "code",
   "execution_count": 3,
   "id": "de407569",
   "metadata": {},
   "outputs": [
    {
     "name": "stdout",
     "output_type": "stream",
     "text": [
      "Enter the bottle's number that have one L or less: 4\n",
      "Enter the bottle's number that have more than one L: 2\n",
      "The refund that will be received for returning those containers is 0.90 $\n"
     ]
    }
   ],
   "source": [
    "bottle1 = int(input(\"Enter the bottle's number that have one L or less: \"))\n",
    "bottle2 = int(input(\"Enter the bottle's number that have more than one L: \"))\n",
    "\n",
    "refund = bottle1 * 0.1 + bottle2 * 0.25\n",
    "print(f'The refund that will be received for returning those containers is {refund:.2f} $')"
   ]
  },
  {
   "cell_type": "markdown",
   "id": "9f8a58a1",
   "metadata": {},
   "source": [
    "<h2 style=\"color: green\">❖ Exercise 04: ”Tax and Tip”</h2>\n",
    "<p style=\"color: green\"><i>(Solved in 17 Lines)</p>\n",
    "<p style=\"text-align: justify\">The program that you create for this exercise will begin by reading the cost of a meal ordered at a restaurant\n",
    "from the user. Then your program will compute the tax and tip for the meal. Use your local tax rate of\n",
    "5 percent when computing the amount of tax owing. Compute the tip as 18 percent of the meal amount\n",
    "(without the tax). The output from your program should include the tax amount, the tip amount, and\n",
    "the grand total for the meal including both the tax and the tip. Format the output so that all of the values\n",
    "are displayed using two decimal places."
   ]
  },
  {
   "cell_type": "code",
   "execution_count": 4,
   "id": "d3963777",
   "metadata": {},
   "outputs": [
    {
     "name": "stdout",
     "output_type": "stream",
     "text": [
      "Enter the cost of a meal ($): 12.654\n",
      "The tax amount: 0.63$, The tip amount: 2.28$, the grand total is 15.56\n"
     ]
    }
   ],
   "source": [
    "meal_cost = float(input('Enter the cost of a meal ($): '))\n",
    "# tax = 5%, tip = 18% \n",
    "tax = meal_cost * (5/100)\n",
    "tip = meal_cost * (18/100)\n",
    "total = tax + tip + meal_cost\n",
    "\n",
    "print(f\"The tax amount: {tax:.2f}$, The tip amount: {tip:.2f}$, the grand total is {total:.2f}\")"
   ]
  },
  {
   "cell_type": "markdown",
   "id": "adeb801f",
   "metadata": {},
   "source": [
    "<h2 style=\"color: green\">❖ Exercise 05: ”Dog Years”</h2>\n",
    "<p style=\"color: green\"><i>(Solved in 22 Lines)</p>\n",
    "<p style=\"text-align: justify\">It is commonly said that one human year is equivalent to 7 dog years. However, this simple conversion fails\n",
    "to recognize that dogs reach adulthood in approximately two years. As a result, some people believe that\n",
    "it is better to count each of the first two human years as 10.5 dog years, and then count each additional\n",
    "human year as 4 dog years. Write a program that implements the conversion from human years to dog\n",
    "years described in the previous paragraph. Ensure that your program works correctly for conversions of less\n",
    "than two human years and for conversions of two or more human years. Your program should display an\n",
    "appropriate error message if the user enters a negative number."
   ]
  },
  {
   "cell_type": "code",
   "execution_count": 5,
   "id": "1445f593",
   "metadata": {},
   "outputs": [
    {
     "name": "stdout",
     "output_type": "stream",
     "text": [
      "Enter a human years: 20\n",
      "The dog year is 93.00\n"
     ]
    }
   ],
   "source": [
    "human_year = float(input(\"Enter a human years: \"))\n",
    "if human_year <= 2 and human_year >= 0:\n",
    "    dog_year = human_year * 10.5\n",
    "    print(f\"The dog year is {dog_year:.2f}\")\n",
    "elif human_year > 2:\n",
    "    dog_year = (human_year - 2) * 4 + 2 * 10.5 \n",
    "    print(f\"The dog year is {dog_year:.2f}\")\n",
    "else:\n",
    "    raise Exception(\"The number is below zero!!\")"
   ]
  },
  {
   "cell_type": "markdown",
   "id": "135ff8f1",
   "metadata": {},
   "source": [
    "<h2 style=\"color: green\">❖ Exercise 06: ”Name that Shape”</h2>\n",
    "<p style=\"color: green\"><i>(Solved in 31 Lines)</p>\n",
    "<p style=\"text-align: justify\">Write a program that determines the name of a shape from its number of sides. Read the number of sides\n",
    "from the user and then report the appropriate name as part of a meaningful message. Your program should\n",
    "support shapes with anywhere from 3 up to (and including) 10 sides. If a number of sides outside of this\n",
    "range is entered then your program should display an appropriate error message.\n",
    "<img src=\"shape.jpg\" width=\"400\">"
   ]
  },
  {
   "cell_type": "code",
   "execution_count": 6,
   "id": "141a25f0",
   "metadata": {},
   "outputs": [
    {
     "name": "stdout",
     "output_type": "stream",
     "text": [
      "Enter the number of shape's sides: 5\n",
      "The name of this shape from it's number of sides is Pentagon\n"
     ]
    }
   ],
   "source": [
    "num_sides = int(input(\"Enter the number of shape's sides: \"))\n",
    "dict_shapes = {\n",
    "                3: \"Triangle\", \n",
    "                4: \"Quadrilateral\",\n",
    "                5: \"Pentagon\",\n",
    "                6: \"Hexgon\",\n",
    "                7: \"Heptagon\",\n",
    "                8: \"Octagon\",\n",
    "                9: \"Nonagon\",\n",
    "                10: \"Decagon\"\n",
    "              }\n",
    "if num_sides not in dict_shapes.keys():\n",
    "    print('The number of sides is outside of the range. try between 3 and 10!!')\n",
    "else:\n",
    "    print(f\"The name of this shape from it's number of sides is {dict_shapes.get(num_sides)}\")"
   ]
  },
  {
   "cell_type": "markdown",
   "id": "08eb7d7d",
   "metadata": {},
   "source": [
    "<h2 style=\"color: green\">❖ Exercise 07: ”What Color is that Square?”</h2>\n",
    "<p style=\"color: green\"><i>(Solved in 22 Lines)</p>\n",
    "<p style=\"text-align: justify\">Positions on a chess board are identified by a letter and a number. The letter identifies the column, while\n",
    "the number identifies the row, as shown below:</p>\n",
    "<img src=\"board.jpg\" width=\"500\">\n",
    "<p style=\"text-align: justify\">Write a program that reads a position from the user. Use an if statement to determine if the column begins\n",
    "with a black square or a white square. Then use modular arithmetic to report the color of the square in\n",
    "that row. For example, if the user enters a1 then your program should report that the square is black. If\n",
    "the user enters d5 then your program should report that the square is white. Your program may assume\n",
    "that a valid position will always be entered. It does not need to perform any error checking.</p>"
   ]
  },
  {
   "cell_type": "code",
   "execution_count": 7,
   "id": "9597135e",
   "metadata": {},
   "outputs": [
    {
     "name": "stdout",
     "output_type": "stream",
     "text": [
      "The position is: d7\n",
      "The square is Black\n"
     ]
    }
   ],
   "source": [
    "rows = [1, 2, 3, 4, 5, 6, 7, 8]\n",
    "cols = ['a', 'b', 'c', 'd', 'e', 'f', 'g', 'h']\n",
    "read = input('The position is: ').lower()\n",
    "if len(read) != 2:\n",
    "    print(\"Invalid position!\")\n",
    "else:\n",
    "    for i in range(len(rows)):\n",
    "        for j in range(len(cols)):\n",
    "            if read == cols[j] + str(rows[i]):\n",
    "                col_index = j\n",
    "                row_index = i\n",
    "    if col_index % 2 == 0:\n",
    "        if row_index % 2 == 0:\n",
    "            print('The square is White')\n",
    "        else:\n",
    "            print('The square is Black')\n",
    "    else:\n",
    "        if row_index % 2 == 0:\n",
    "            print('The square is Black')\n",
    "        else:\n",
    "            print('The square is White')"
   ]
  },
  {
   "cell_type": "markdown",
   "id": "4ba14736",
   "metadata": {},
   "source": [
    "<h2 style=\"color: green\">❖ Exercise 08: ”Assessing Employees”</h2>\n",
    "<p style=\"color: green\"><i>(Solved in 28 Lines)</p>\n",
    "<p style=\"text-align: justify\">At a particular company, employees are rated at the end of each year. The rating scale begins at 0.0, with\n",
    "higher values indicating better performance and resulting in larger raises. The value awarded to an employee\n",
    "is either 0.0, 0.4, or 0.6 or more. Values between 0.0 and 0.4, and between 0.4 and 0.6 are never used. The\n",
    "meaning associated with each rating is shown in the following table. The amount of an employee’s raise is\n",
    "$2400.00 multiplied by their rating.</p>\n",
    "<img src=\"ex8.png\" width=\"400\">\n",
    "<p>Write a program that reads a rating from the user and indicates whether the performance was unacceptable,\n",
    "acceptable or meritorious. The amount of the employee’s raise should also be reported. Your program\n",
    "should display an appropriate error message if an invalid rating is entered.</p>"
   ]
  },
  {
   "cell_type": "code",
   "execution_count": 8,
   "id": "87038251",
   "metadata": {},
   "outputs": [
    {
     "name": "stdout",
     "output_type": "stream",
     "text": [
      "Enter your rate: 0\n",
      "Unacceptable performance, The amount of this employee's rase is 0.00$\n"
     ]
    }
   ],
   "source": [
    "rate = float(input('Enter your rate: '))\n",
    "\n",
    "if rate == 0.0:\n",
    "    print(f\"Unacceptable performance, The amount of this employee's rase is {rate * 2400:.2f}$\")\n",
    "elif rate == 0.4:\n",
    "    print(f\"Acceptable performance, The amount of this employee's rase is {rate * 2400:.2f}$\")   \n",
    "elif rate >= 0.6 and rate < 1:\n",
    "    print(f\"Meritorious performance, The amount of this employee's rase is {rate * 2400:.2f}$\")   \n",
    "else:\n",
    "    print('Not a valid rate!!')"
   ]
  },
  {
   "cell_type": "markdown",
   "id": "be220811",
   "metadata": {},
   "source": [
    "<h2 style=\"color: green\">❖ Exercise 09: ”Average”</h2>\n",
    "<p style=\"color: green\"><i>(Solved in 26 Lines)</p>\n",
    "<p style=\"text-align: justify\">you will create a program that computes the average of a collection of values entered by the user. The user\n",
    "will enter 0 as a sentinel value to indicate that no further values will be provided. Your program should\n",
    "display an appropriate error message if the first value entered by the user is 0.</p>\n",
    "<p style=\"text-align: justify; color: red\"><b>Hint: Because the 0 marks the end of the input it should not be included in the average."
   ]
  },
  {
   "cell_type": "code",
   "execution_count": 9,
   "id": "312f0f8d",
   "metadata": {},
   "outputs": [
    {
     "name": "stdout",
     "output_type": "stream",
     "text": [
      "Enter the value 1:12\n",
      "Enter the value 2:5.6\n",
      "Enter the value 3:12.3\n",
      "Enter the value 4:0\n",
      "The average is 9.966666666666667\n"
     ]
    }
   ],
   "source": [
    "i = 1\n",
    "list_ = []\n",
    "run = True\n",
    "while run:\n",
    "    value = float(input(f'Enter the value {i}:'))\n",
    "    list_.append(value)\n",
    "    if list_[0] == 0:\n",
    "        print('you should end by zero not starting with!!!')\n",
    "        run = False\n",
    "    elif list_[-1] == 0:\n",
    "        print(f'The average is {sum(list_) / (len(list_)- 1)}')\n",
    "        run = False\n",
    "    else:    \n",
    "        i += 1"
   ]
  },
  {
   "cell_type": "markdown",
   "id": "6c995109",
   "metadata": {},
   "source": [
    "<h2 style=\"color: green\">❖ Exercise 10: ”Temperature Conversion Table”</h2>\n",
    "<p style=\"color: green\"><i>(Solved in 22 Lines)</p>\n",
    "<p style=\"text-align: justify\">Write a program that displays a temperature conversion table for degrees Celsius and degrees Fahrenheit.\n",
    "The table should include rows for all temperatures between 0 and 100 degrees Celsius which are multiples\n",
    "of 10 degrees Celsius. Include appropriate headings on your columns. The formula for converting between\n",
    "degrees Celsius and degrees Fahrenheit: TF = TC ∗ 1, 8 + 32"
   ]
  },
  {
   "cell_type": "code",
   "execution_count": 10,
   "id": "e6bc6584",
   "metadata": {},
   "outputs": [
    {
     "name": "stdout",
     "output_type": "stream",
     "text": [
      "0 °C = 32.00 °F\n",
      "10 °C = 50.00 °F\n",
      "20 °C = 68.00 °F\n",
      "30 °C = 86.00 °F\n",
      "40 °C = 104.00 °F\n",
      "50 °C = 122.00 °F\n",
      "60 °C = 140.00 °F\n",
      "70 °C = 158.00 °F\n",
      "80 °C = 176.00 °F\n",
      "90 °C = 194.00 °F\n",
      "100 °C = 212.00 °F\n"
     ]
    }
   ],
   "source": [
    "for i in range(0, 101, 10):\n",
    "    print(f'{i} °C = {(i * 1.8 + 32):.2f} °F')    "
   ]
  },
  {
   "cell_type": "markdown",
   "id": "e8aa219b",
   "metadata": {},
   "source": [
    "<h2 style=\"color: green\">❖ Exercise 11: ”No More Pennies”</h2>\n",
    "<p style=\"color: green\"><i>(Solved in 38 Lines)</p>\n",
    "<p style=\"text-align: justify\">February 4, 2013 was the last day that pennies were distributed by the Royal Canadian Mint. Now that\n",
    "pennies have been phased out retailers must adjust totals so that they are multiples of 5 cents when they\n",
    "are paid for with cash (credit card and debit card transactions continue to be charged to the penny). While\n",
    "retailers have some freedom in how they do this, most choose to round to the closest nickel. Write a program\n",
    "that reads prices from the user until a blank line is entered. Display the total cost of all the entered items\n",
    "on one line, followed by the amount due if the customer pays with cash on a second line. The amount due\n",
    "for a cash payment should be rounded to the nearest nickel. One way to compute the cash payment amount\n",
    "to begin by determining how many pennies would be needed to pay the total. Then compute the remainder\n",
    "when this number of pennies is divided by 5. Finally, adjust the total down if the remainder is less than\n",
    "Otherwise, 2.5. adjust the total up."
   ]
  },
  {
   "cell_type": "code",
   "execution_count": 11,
   "id": "8c7aad3a",
   "metadata": {},
   "outputs": [
    {
     "name": "stdout",
     "output_type": "stream",
     "text": [
      "The price N°1: 12.95\n",
      "The price N°2: 12.3\n",
      "The price N°3: 15\n",
      "The price N°4: 1.265\n",
      "The price N°5: \n",
      "The total cost of all the entered items is 41.515\n",
      "The amount due if the customer pays with cash is 41.55\n"
     ]
    }
   ],
   "source": [
    "prices = []\n",
    "run = True\n",
    "i = 1\n",
    "while run:\n",
    "    inputs = input(f\"The price N°{i}: \")\n",
    "    if inputs == '':\n",
    "        run = False\n",
    "    else:\n",
    "        prices.append(float(inputs))\n",
    "        i += 1\n",
    "total = sum(prices)\n",
    "print(f'The total cost of all the entered items is {total}')\n",
    "\n",
    "cents = round(total - round(total, 1), 2)\n",
    "if cents >= 0:\n",
    "    total1 = total + (0.05 - cents)\n",
    "else:\n",
    "    total1 = total - cents\n",
    "print(f'The amount due if the customer pays with cash is {round(total1, 2)}')"
   ]
  },
  {
   "cell_type": "markdown",
   "id": "f831a4c4",
   "metadata": {},
   "source": [
    "<h2 style=\"color: green\">❖ Exercise 12: ”Compute the Perimeter of a Polygon”</h2>\n",
    "<p style=\"color: green\"><i>(Solved in 42 Lines)</p>\n",
    "<p style=\"text-align: justify\">Write a program that computes the perimeter of a polygon. Begin by reading the x and y values for the\n",
    "first point on the perimeter of the polygon from the user. Then continue reading pairs of x and y values\n",
    "until the user enters a blank line for the x-coordinate. Each time you read an additional coordinate you\n",
    "should compute the distance to the previous point and add it to the perimeter. When a blank line is entered\n",
    "for the x-coordinate your program should add the distance from the last point back to the first point to the\n",
    "perimeter. Then it should display the total perimeter. Sample input and output are shown below, with user\n",
    "input shown in bold:</p>\n",
    "<img src=\"ex12.png\" width=\"400\">"
   ]
  },
  {
   "cell_type": "markdown",
   "id": "3ad2db62",
   "metadata": {},
   "source": [
    "<h2 style=\"color: green\">❖ Exercise 13: ””Is a String a Palindrome?”</h2>\n",
    "<p style=\"color: green\"><i>(Solved in 23 Lines)</p>\n",
    "<p style=\"text-align: justify\">A string is a palindrome if it is identical forward and backward. For example “anna”, “civic”, “level” and\n",
    "“hannah” are all examples of palindromic words.Write a program that reads a string from the user and uses\n",
    "a loop to determines whether or not it is a palindrome. Display the result, including a meaningful output\n",
    "message."
   ]
  },
  {
   "cell_type": "code",
   "execution_count": 12,
   "id": "a0520aac",
   "metadata": {},
   "outputs": [
    {
     "name": "stdout",
     "output_type": "stream",
     "text": [
      "Enter the word: anna\n",
      "It is a palindrome.\n"
     ]
    }
   ],
   "source": [
    "word = input(\"Enter the word: \")\n",
    "is_palindrome = True\n",
    "for i in range(int(len(word)/2)):\n",
    "    if word[i] != word[-1-i]:\n",
    "        is_palindrome = False\n",
    "if is_palindrome:\n",
    "    print(\"It is a palindrome.\")\n",
    "else:\n",
    "    print(\"it is not a palindrome.\")"
   ]
  },
  {
   "cell_type": "markdown",
   "id": "6704b48b",
   "metadata": {},
   "source": [
    "<h2 style=\"color: green\">❖ Exercise 14: ”Median of Three Values”</h2>\n",
    "<p style=\"color: green\"><i>(Solved in 42 Lines)</p>\n",
    "<p style=\"text-align: justify\">Write a function that takes three numbers as parameters, and returns the median value of those parameters\n",
    "as its result. Include the main program that reads three values from the user and displays their median.</p>\n",
    "<p style=\"text-align: justify; color: red\"><b>Hint: The median value is the middle of the three values when they are sorted into ascending\n",
    "order. It can be found using if statements, or with a little bit of mathematical creativity."
   ]
  },
  {
   "cell_type": "code",
   "execution_count": 13,
   "id": "56767df1",
   "metadata": {},
   "outputs": [
    {
     "name": "stdout",
     "output_type": "stream",
     "text": [
      "Enter the number 1: 12\n",
      "Enter the number 2: 12.6\n",
      "Enter the number 3: 18\n"
     ]
    },
    {
     "data": {
      "text/plain": [
       "12.6"
      ]
     },
     "execution_count": 13,
     "metadata": {},
     "output_type": "execute_result"
    }
   ],
   "source": [
    "def avg():\n",
    "    nums = []\n",
    "    i = 1\n",
    "    while i < 4:\n",
    "        num = float(input(f\"Enter the number {i}: \"))\n",
    "        nums.append(num)\n",
    "        i += 1\n",
    "    n = sorted(nums)\n",
    "    return n[1]\n",
    "avg()"
   ]
  },
  {
   "cell_type": "markdown",
   "id": "da10f335",
   "metadata": {},
   "source": [
    "<hr></hr>\n",
    "<p style=\"color: red; text-align: right;\">TP02 - Complete | <span style=\"color: black;\"><b>TATI"
   ]
  }
 ],
 "metadata": {
  "kernelspec": {
   "display_name": "Python 3 (ipykernel)",
   "language": "python",
   "name": "python3"
  },
  "language_info": {
   "codemirror_mode": {
    "name": "ipython",
    "version": 3
   },
   "file_extension": ".py",
   "mimetype": "text/x-python",
   "name": "python",
   "nbconvert_exporter": "python",
   "pygments_lexer": "ipython3",
   "version": "3.9.13"
  }
 },
 "nbformat": 4,
 "nbformat_minor": 5
}
